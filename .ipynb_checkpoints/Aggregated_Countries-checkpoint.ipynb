{
 "cells": [
  {
   "cell_type": "code",
   "execution_count": 1,
   "metadata": {},
   "outputs": [],
   "source": [
    "from scipy import stats\n",
    "import numpy as np\n",
    "import pandas as pd\n",
    "import seaborn as sns\n",
    "import statsmodels.api as sm\n",
    "import statsmodels.formula.api as sfm\n",
    "import matplotlib.pyplot as plt\n",
    "%matplotlib inline\n",
    "\n",
    "\n",
    "%config InlineBackend.figure_format = 'retina'\n",
    "plt.style.use('seaborn-darkgrid')\n",
    "\n",
    "from IPython.core.interactiveshell import InteractiveShell\n",
    "InteractiveShell.ast_node_interactivity =\"all\"\n",
    "\n",
    "%load_ext autoreload\n",
    "%autoreload 2"
   ]
  },
  {
   "cell_type": "code",
   "execution_count": 2,
   "metadata": {},
   "outputs": [],
   "source": [
    "df = pd.read_csv('data/Aggregated by Region.csv')"
   ]
  },
  {
   "cell_type": "code",
   "execution_count": 3,
   "metadata": {},
   "outputs": [],
   "source": [
    "#Rename Columns\n",
    "df.rename(columns = {   \"Time\": \"Year\",                        \n",
    "                        \"Country Name\":\"Country\",\n",
    "                        \"Automated teller machines (ATMs) (per 100,000 adults) [FB.ATM.TOTL.P5]\":\"ATM_per100K\",  \n",
    "                        \"GDP per capita (current US$) [NY.GDP.PCAP.CD]\": \"GDP_percapita\",\n",
    "                        \"GDP per capita growth (annual %) [NY.GDP.PCAP.KD.ZG]\":\"GDP_percapita_growth\",\n",
    "                        \"GDP growth (annual %) [NY.GDP.MKTP.KD.ZG]\":\"GDP_growth_annualperc\",\n",
    "                        \"Mobile cellular subscriptions (per 100 people) [IT.CEL.SETS.P2]\":\"mobile_subscr_per100K\"},\n",
    "                        inplace=True)\n",
    "\n",
    "#drop null\n",
    "df = df.drop(['Time Code', 'Country Code'], axis=1)\n",
    "df = df.drop([603, 604]) #drop strings in the Year Column\n",
    "df = df.replace(to_replace = '..', value=np.nan, regex=False) #replace all the blank values with nan\n",
    "df.dropna(subset=['Year', 'ATM_per100K', 'mobile_subscr_per100K'], inplace = True)\n",
    "#ATM_Per100 = 3350 rows --> remove Nan from Mobile --> 2319 rows\n",
    "\n",
    "#Casting\n",
    "df['Year'] = df['Year'].astype(int)\n",
    "cols = df.columns.drop(['Year','Country'])\n",
    "df[cols] = df[cols].apply(pd.to_numeric, errors='coerce')"
   ]
  },
  {
   "cell_type": "code",
   "execution_count": 4,
   "metadata": {},
   "outputs": [
    {
     "name": "stdout",
     "output_type": "stream",
     "text": [
      "<class 'pandas.core.frame.DataFrame'>\n",
      "Int64Index: 175 entries, 396 to 575\n",
      "Data columns (total 7 columns):\n",
      " #   Column                 Non-Null Count  Dtype  \n",
      "---  ------                 --------------  -----  \n",
      " 0   Year                   175 non-null    int64  \n",
      " 1   Country                175 non-null    object \n",
      " 2   ATM_per100K            175 non-null    float64\n",
      " 3   GDP_percapita          175 non-null    float64\n",
      " 4   GDP_percapita_growth   175 non-null    float64\n",
      " 5   GDP_growth_annualperc  175 non-null    float64\n",
      " 6   mobile_subscr_per100K  175 non-null    float64\n",
      "dtypes: float64(5), int64(1), object(1)\n",
      "memory usage: 10.9+ KB\n"
     ]
    }
   ],
   "source": [
    "df.info()"
   ]
  },
  {
   "cell_type": "code",
   "execution_count": null,
   "metadata": {},
   "outputs": [],
   "source": []
  }
 ],
 "metadata": {
  "kernelspec": {
   "display_name": "Python 3",
   "language": "python",
   "name": "python3"
  },
  "language_info": {
   "codemirror_mode": {
    "name": "ipython",
    "version": 3
   },
   "file_extension": ".py",
   "mimetype": "text/x-python",
   "name": "python",
   "nbconvert_exporter": "python",
   "pygments_lexer": "ipython3",
   "version": "3.8.6"
  }
 },
 "nbformat": 4,
 "nbformat_minor": 4
}
