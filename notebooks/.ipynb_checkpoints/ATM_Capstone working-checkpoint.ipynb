{
 "cells": [
  {
   "cell_type": "code",
   "execution_count": 1,
   "metadata": {},
   "outputs": [],
   "source": [
    "from scipy import stats\n",
    "import numpy as np\n",
    "import pandas as pd\n",
    "import seaborn as sns\n",
    "import statsmodels.api as sm\n",
    "import statsmodels.formula.api as sfm\n",
    "import matplotlib.pyplot as plt\n",
    "%matplotlib inline\n",
    "\n",
    "\n",
    "%config InlineBackend.figure_format = 'retina'\n",
    "plt.style.use('ggplot')\n",
    "\n",
    "from IPython.core.interactiveshell import InteractiveShell\n",
    "InteractiveShell.ast_node_interactivity =\"all\"\n",
    "\n",
    "%load_ext autoreload\n",
    "%autoreload 2"
   ]
  },
  {
   "cell_type": "code",
   "execution_count": 2,
   "metadata": {},
   "outputs": [],
   "source": [
    "df = pd.read_csv('data/World_Bank_mobile_data.csv')\n",
    "gdp = pd.read_csv('data/GDP_data.csv')"
   ]
  },
  {
   "cell_type": "markdown",
   "metadata": {},
   "source": [
    "### Clean ATM Data"
   ]
  },
  {
   "cell_type": "code",
   "execution_count": 3,
   "metadata": {},
   "outputs": [],
   "source": [
    "#Rename Columns\n",
    "df.rename(columns = {\"Account ownership at a financial institution or with a mobile-money-service provider, male (% of population ages 15+) [FX.OWN.TOTL.MA.ZS]\": \"Males_15plus\", \n",
    "                       \"Account ownership at a financial institution or with a mobile-money-service provider, poorest 40% (% of population ages 15+) [FX.OWN.TOTL.40.ZS]\": \"poorest40perc_15plus\", \n",
    "                       \"Account ownership at a financial institution or with a mobile-money-service provider (% of population ages 15+) [FX.OWN.TOTL.ZS]\": \"pop_15plus\",\n",
    "                       \"Account ownership at a financial institution or with a mobile-money-service provider, richest 60% (% of population ages 15+) [FX.OWN.TOTL.60.ZS]\":\"richest60perc_15plus\",\n",
    "                       \"Automated teller machines (ATMs) (per 100,000 adults) [FB.ATM.TOTL.P5]\":\"ATM_per100K\",  \n",
    "                        \"Account ownership at a financial institution or with a mobile-money-service provider, young adults (% of population ages 15-24) [FX.OWN.TOTL.YG.ZS]\": \"young_adults_15-24\",\n",
    "                        \"Account ownership at a financial institution or with a mobile-money-service provider, female (% of population ages 15+) [FX.OWN.TOTL.FE.ZS]\": \"Females_15plus\",\n",
    "                        \"Account ownership at a financial institution or with a mobile-money-service provider, older adults (% of population ages 25+) [FX.OWN.TOTL.OL.ZS]\": \"older_adults_25plus\",\n",
    "                        \"Account ownership at a financial institution or with a mobile-money-service provider, primary education or less (% of population ages 15+) [FX.OWN.TOTL.PL.ZS]\": \"primaryed_or_less\",\n",
    "                        \"Account ownership at a financial institution or with a mobile-money-service provider, secondary education or more (% of population ages 15+) [FX.OWN.TOTL.SO.ZS]\": \"secondaryed_or_more\",\n",
    "                        \"Mobile cellular subscriptions [IT.CEL.SETS]\": \"mobile_subscr\",\n",
    "                        \"Mobile cellular subscriptions (per 100 people) [IT.CEL.SETS.P2]\": \"mobile_subscr_per100K\",\n",
    "                        \"Country Name\":\"Country\",\n",
    "                        \"Time\": \"Year\"},\n",
    "                        inplace=True)\n",
    "\n",
    "#drop null\n",
    "df = df.drop(['Time Code'], axis=1)\n",
    "df = df.drop([13203, 13204]) #drop strings in the Year Column\n",
    "df = df.replace(to_replace = '..', value=np.nan, regex=False) #replace all the blank values with nan\n",
    "df.dropna(subset=['Year', 'ATM_per100K', 'mobile_subscr_per100K'], inplace = True)\n",
    "#ATM_Per100 = 3350 rows --> remove Nan from Mobile --> 2319 rows\n",
    "\n",
    "#Casting\n",
    "df['Year'] = df['Year'].astype(int)\n",
    "cols = df.columns.drop(['Year','Country', 'Country Code'])\n",
    "df[cols] = df[cols].apply(pd.to_numeric, errors='coerce')"
   ]
  },
  {
   "cell_type": "code",
   "execution_count": 4,
   "metadata": {},
   "outputs": [],
   "source": [
    "#add rate column and drop nulls\n",
    "df['rate'] = df.sort_values(['Country','Year']).reset_index().groupby('Country')['ATM_per100K'].pct_change()\n",
    "df['mobile_subscr_per100K'] = df['mobile_subscr_per100K'].apply(lambda x: x*1000)\n",
    "df = df[['Year', 'Country', 'mobile_subscr_per100K', 'ATM_per100K', 'rate']]"
   ]
  },
  {
   "cell_type": "code",
   "execution_count": null,
   "metadata": {},
   "outputs": [],
   "source": [
    "df['ATM_per100K'].describe()"
   ]
  },
  {
   "cell_type": "markdown",
   "metadata": {},
   "source": [
    "### Clean GDP Data"
   ]
  },
  {
   "cell_type": "code",
   "execution_count": null,
   "metadata": {},
   "outputs": [],
   "source": [
    "#Rename column\n",
    "gdp.rename(columns = {\"Time\": \"Year\",\n",
    "                    \"Country Name\":\"Country\",\n",
    "                    \"GDP per capita (current US$) [NY.GDP.PCAP.CD]\": \"GDP_percapita\",\n",
    "                    \"GDP per capita growth (annual %) [NY.GDP.PCAP.KD.ZG]\":\"GDP_percapita_growth\",\n",
    "                    \"GDP growth (annual %) [NY.GDP.MKTP.KD.ZG]\":\"GDP_growth_annualperc\"\n",
    "                    },inplace=True)\n",
    "#drop null\n",
    "gdp = gdp.drop([13203,13204])\n",
    "gdp = gdp.drop(['Time Code', 'Country Code'], axis=1)\n",
    "gdp = gdp.replace(to_replace = '..', value=np.nan, regex=False) #replace all the blank values with nan\n",
    "gdp.dropna(subset=['Year'], inplace = True)\n",
    "\n",
    "#casting\n",
    "gdp['Year'] = gdp['Year'].astype(int)\n",
    "cols = gdp.columns.drop(['Year', 'Country'])\n",
    "gdp[cols] = gdp[cols].apply(pd.to_numeric, errors='coerce')\n",
    "gdp.dropna(subset=['GDP_percapita', 'GDP_percapita_growth', 'GDP_growth_annualperc'], inplace = True)"
   ]
  },
  {
   "cell_type": "markdown",
   "metadata": {},
   "source": [
    "### Merge Data"
   ]
  },
  {
   "cell_type": "code",
   "execution_count": null,
   "metadata": {},
   "outputs": [],
   "source": [
    "#Merge\n",
    "df = pd.merge(df, gdp, how='left', on=['Country', 'Year']) #2130"
   ]
  },
  {
   "cell_type": "code",
   "execution_count": null,
   "metadata": {},
   "outputs": [],
   "source": [
    "df['quantile'] = pd.qcut(df['GDP_percapita'], q=[0, .25, .75, 1], labels=['small', 'medium', 'large'])\n",
    "df_small = df[df['quantile']=='small']\n",
    "df_medium = df[df['quantile']=='medium']\n",
    "df_large = df[df['quantile']=='large']"
   ]
  },
  {
   "cell_type": "code",
   "execution_count": null,
   "metadata": {},
   "outputs": [],
   "source": [
    "sns.set_context(\"paper\", font_scale = .7, rc={\"grid.linewidth\": 3})\n",
    "f = plt.figure(figsize=(15, 8))\n",
    "_ = f.suptitle('Heat Maps', size=24)\n",
    "gs = f.add_gridspec(2, 2)\n",
    "\n",
    "with sns.axes_style(\"darkgrid\"):\n",
    "    ax = f.add_subplot(gs[0, 0])\n",
    "    ax = sns.heatmap(df.corr(), annot = True, linewidths=.05)\n",
    "    _= ax.set_title('Total', weight='bold', size=10)\n",
    "    \n",
    "with sns.axes_style(\"whitegrid\"):\n",
    "    ax0 = f.add_subplot(gs[0, 1])\n",
    "    ax0 = sns.heatmap(df_small.corr(), annot = True, linewidths=.05)\n",
    "    _= ax0.set_title('Small GDP', weight='bold', size=10)\n",
    "    \n",
    "with sns.axes_style(\"darkgrid\"):\n",
    "    ax1 = f.add_subplot(gs[1, 0])\n",
    "    ax1 = sns.heatmap(df_medium.corr(), annot = True, linewidths=.05)\n",
    "    _= ax1.set_title('Medium GDP', weight='bold', size=10)\n",
    "\n",
    "with sns.axes_style(\"whitegrid\"):\n",
    "    ax2 = f.add_subplot(gs[1, 1])\n",
    "    ax2 = sns.heatmap(df_large.corr(), annot = True, linewidths=.05)\n",
    "    _= ax2.set_title('Large GDP', weight='bold', size=10)\n",
    "    \n",
    "plt.subplots_adjust(wspace=2,hspace=1)\n",
    "f.tight_layout()    \n",
    "_= plt.savefig('Heat_Map')\n"
   ]
  },
  {
   "cell_type": "code",
   "execution_count": null,
   "metadata": {},
   "outputs": [],
   "source": [
    "def best_fit(x, y):\n",
    "    xbar = sum(x)/len(x)\n",
    "    ybar = sum(y)/len(y)\n",
    "    n = len(x) \n",
    "\n",
    "    num = sum([xi*yi for xi,yi in zip(x, y)]) - n * xbar * ybar\n",
    "    den = sum([xi**2 for xi in x]) - n * xbar**2\n",
    "\n",
    "    b = num / den\n",
    "    a = ybar - b * xbar\n",
    "\n",
    "    return a, b"
   ]
  },
  {
   "cell_type": "code",
   "execution_count": null,
   "metadata": {},
   "outputs": [],
   "source": [
    "#Scatter ATMs by GDP Total\n",
    "fig = plt.figure(figsize=(8,5))\n",
    "_ = fig.suptitle('ATM per 100,000 by GDP Category 2008-2019', size=24)\n",
    "\n",
    "x0 = df[df['quantile'] == 'small']['Year']\n",
    "y0 = df[df['quantile'] == 'small']['ATM_per100K']\n",
    "x1 = df[df['quantile'] == 'medium']['Year']\n",
    "y1 = df[df['quantile'] == 'medium']['ATM_per100K']\n",
    "x2 = df[df['quantile'] == 'large']['Year']\n",
    "y2 = df[df['quantile'] == 'large']['ATM_per100K']\n",
    "\n",
    "ax1 = fig.add_subplot(1,3,1)\n",
    "_ = ax1.scatter(x0, y0, marker = '*', alpha = .1, c='red', label=\"Small GDP\" )\n",
    "_ = ax1.set_ylim([0, 325])\n",
    "_ = ax1.set_xlabel('Year')\n",
    "_ = ax1.set_ylabel('ATM per 100,000')\n",
    "# _ = ax1.set_title('Small GDP')\n",
    "a, b = best_fit(x0, y0)\n",
    "yfit0 = [a + b * xi for xi in x0]\n",
    "_= ax1.plot(x0, yfit0, c='black', lw='3.0')\n",
    "_= plt.legend(loc='upper center')\n",
    "\n",
    "ax2 = fig.add_subplot(1,3,2)\n",
    "_ = ax2.scatter(x1, y1, marker = '^', alpha = .1, c='blue', label=\"Medium GDP\")\n",
    "_ = ax2.set_ylim([0, 325])\n",
    "_ = ax2.set_xlabel('Year')\n",
    "_ = ax2.set_ylabel('ATM per 100,000')\n",
    "# _ = ax2.set_title('Medium GDP')\n",
    "a, b = best_fit(x1, y1)\n",
    "yfit1 = [a + b * xi for xi in x1]\n",
    "_= ax2.plot(x1, yfit1, c='black', lw='3.0')\n",
    "_= plt.legend(loc='upper center')\n",
    "\n",
    "\n",
    "ax3 = fig.add_subplot(1,3,3)\n",
    "_ = ax3.scatter(x2, y2, marker = 'o', alpha = .1, c='green', label=\"Large GDP\")\n",
    "_ = ax3.set_ylim([0, 325])\n",
    "_ = ax3.set_xlabel('Year')\n",
    "_ = ax3.set_ylabel('ATM per 100,000')\n",
    "# _ = ax3.set_title('Large GDP')\n",
    "a, b = best_fit(x2, y2)\n",
    "yfit2 = [a + b * xi for xi in x2]\n",
    "_= ax3.plot(x2, yfit2, c='black', lw='3.0')\n",
    "_= plt.legend(loc='upper center')\n",
    "\n",
    "plt.subplots_adjust(wspace=0.2,hspace=.4)\n",
    "plt.tight_layout()\n",
    "plt.savefig('ATM per 100,000 by GDP Quantile Scatterplot')\n",
    "plt.show()"
   ]
  },
  {
   "cell_type": "markdown",
   "metadata": {},
   "source": [
    "### Note: Largest variance in the large GDP countries, and most significant growth in ATM for medium GDP Countries"
   ]
  },
  {
   "cell_type": "markdown",
   "metadata": {},
   "source": [
    "### Dont use the separate histgrams figures - not helpful.  use the combined ones"
   ]
  },
  {
   "cell_type": "code",
   "execution_count": null,
   "metadata": {},
   "outputs": [],
   "source": [
    "#ATM by GDP Separate Histograms\n",
    "fig = plt.figure(figsize=(8,5))\n",
    "\n",
    "y0 = df[df['quantile'] == 'small']['ATM_per100K']\n",
    "y1 = df[df['quantile'] == 'medium']['ATM_per100K']\n",
    "y2 = df[df['quantile'] == 'large']['ATM_per100K']\n",
    "\n",
    "bins = 100\n",
    "range=[0, 325]\n",
    "\n",
    "ax1 = fig.add_subplot(1,3,1)\n",
    "_= ax1.hist(y0, bins, alpha=0.5, range=range, color='red', label='small GDP')\n",
    "_= plt.xlabel('Rate of ATM Per 100,000 by GDP Size', fontsize=8)\n",
    "_= plt.legend(loc='upper right')\n",
    "_= ax2 = fig.add_subplot(1,3,2)\n",
    "_= ax2.hist(y1, bins, alpha=0.5, range=range, color='blue', label='medium GDP')\n",
    "_= plt.xlabel('Rate of ATM Per 100,000 by GDP Size', fontsize=8)\n",
    "_= plt.legend(loc='upper right')\n",
    "ax3 = fig.add_subplot(1,3,3)\n",
    "_= ax3.hist(y1, bins, alpha=0.2, range=range, color='green', label='large GDP')\n",
    "_= plt.xlabel('Rate of ATM Per 100,000 by GDP Size', fontsize=8)\n",
    "_= plt.legend(loc='upper right')\n",
    "\n",
    "_= plt.subplots_adjust(wspace=.8,hspace=.8)\n",
    "_= plt.tight_layout()\n",
    "# _= plt.savefig('ATM per 100,000 by GDP Quantile Histograms')\n",
    "_= plt.show()"
   ]
  },
  {
   "cell_type": "code",
   "execution_count": null,
   "metadata": {},
   "outputs": [],
   "source": [
    "#ATM by GDP Combined Histgram\n",
    "\n",
    "plt.xkcd()\n",
    "fig = plt.figure(figsize=(8,5))\n",
    "_= plt.title('ATM by GDP', size = 24)\n",
    "\n",
    "y0 = df[df['quantile'] == 'small']['ATM_per100K']\n",
    "y1 = df[df['quantile'] == 'medium']['ATM_per100K']\n",
    "y2 = df[df['quantile'] == 'large']['ATM_per100K']\n",
    "\n",
    "bins = 100\n",
    "range=[0, 100]\n",
    "\n",
    "ax = fig.add_subplot()\n",
    "_= ax.hist(y0, bins, alpha=0.3, range=range, color='red', label='small GDP')\n",
    "_= ax.hist(y1, bins, alpha=0.3, range=range, color='blue', label='medium GDP')\n",
    "_= ax.hist(y2, bins, alpha=0.3, range=range, color='green', label='large GDP')\n",
    "_= plt.legend(loc='upper right')\n",
    "_= plt.savefig('ATM per 100,000 by GDP Quantile Combined Histogram')\n"
   ]
  },
  {
   "cell_type": "code",
   "execution_count": null,
   "metadata": {
    "scrolled": true
   },
   "outputs": [],
   "source": [
    "avg = df.groupby(['quantile', 'Year']).mean()\n",
    "# avg = avg.reset_index(level=[0,1])\n",
    "avg = df.drop([2,11,22])"
   ]
  },
  {
   "cell_type": "markdown",
   "metadata": {},
   "source": [
    "### Don't Use This scatter - no helpful information"
   ]
  },
  {
   "cell_type": "code",
   "execution_count": null,
   "metadata": {},
   "outputs": [],
   "source": [
    "fig = plt.figure(figsize=(10,20))\n",
    "\n",
    "x0 = avg[avg['quantile'] == 'small']['Year']\n",
    "y0 = avg[avg['quantile'] == 'small']['ATM_per100K']\n",
    "x1 = avg[avg['quantile'] == 'medium']['Year']\n",
    "y1 = avg[avg['quantile'] == 'medium']['ATM_per100K']\n",
    "x2 = avg[avg['quantile'] == 'large']['Year']\n",
    "y2 = avg[avg['quantile'] == 'large']['ATM_per100K']\n",
    "\n",
    "ax1 = fig.add_subplot(3,1,1)\n",
    "_= ax1.set_ylabel('ATM Rate Change')\n",
    "_= ax1.set_title('Average ATM by GDP')\n",
    "\n",
    "\n",
    "small = ax1.scatter(x0, y0, alpha = .2, color='red', lw=2, label='small')\n",
    "medium = ax1.scatter(x1, y1, alpha = .2, color='blue', lw=2, label='medium')\n",
    "large = ax1.scatter(x2, y2, alpha = .2, color='green', lw=2, label='large')\n",
    "ax.legend()\n",
    "# _= plt.savefig('Average ATM per 100,000 by GDP Quantile Scatter')\n"
   ]
  },
  {
   "cell_type": "code",
   "execution_count": null,
   "metadata": {},
   "outputs": [],
   "source": [
    "\n",
    "sns.set_theme(style=\"darkgrid\")\n",
    "sns.set_context(\"paper\", font_scale = .5, rc={\"grid.linewidth\": 3})\n",
    "\n",
    "fig = plt.figure(figsize=(8,6))\n",
    "ax = fig.add_subplot(111)\n",
    "\n",
    "ax = sns.boxplot(data=[y0,y1,y2], orient=\"h\", palette=\"Set1\")\n",
    "_= ax.set_title('Average ATM per 100,000 by GDP', fontsize=20)\n",
    "_= ax.set_yticklabels(['Small GDP', 'Medium GDP', 'Large GDP'], rotation=45, fontsize=10)\n",
    "# sns.boxplot(x=tips[y0,y1,y2])\n",
    "_= plt.savefig('Average ATM per 100,000 by GDP Quantile BoxPlot')\n",
    "plt.show()"
   ]
  },
  {
   "cell_type": "code",
   "execution_count": null,
   "metadata": {
    "jupyter": {
     "source_hidden": true
    }
   },
   "outputs": [],
   "source": [
    "y0_neg_count = sum(df[df['quantile'] == 'small']['rate'] < 0)\n",
    "y1_neg_count = sum(df[df['quantile'] == 'medium']['rate'] < 0)\n",
    "y2_neg_count = sum(df[df['quantile'] == 'large']['rate'] < 0)\n",
    "\n",
    "print(f'Small GDP with Negative ATM Rate: {y0_neg_count}')         \n",
    "print(f'Medium GDP with Negative ATM Rate: {y1_neg_count}')  \n",
    "print(f'Large GDP with Negative ATM Rate: {y2_neg_count} \\n')  \n",
    "\n",
    "y0_pos_count = sum(df[df['quantile'] == 'small']['rate'] > 0)\n",
    "y1_pos_count = sum(df[df['quantile'] == 'medium']['rate'] > 0)\n",
    "y2_pos_count = sum(df[df['quantile'] == 'large']['rate'] > 0)\n",
    "\n",
    "print(f'Small GDP with Positive ATM Rate: {y0_pos_count}')         \n",
    "print(f'Medium GDP with Positive ATM Rate: {y1_pos_count}')  \n",
    "print(f'Large GDP with Positive ATM Rate: {y2_pos_count}') "
   ]
  },
  {
   "cell_type": "code",
   "execution_count": null,
   "metadata": {},
   "outputs": [],
   "source": [
    "#SNS\n",
    "sns.set_theme('notebook', font_scale=.75)\n",
    "f = plt.figure(figsize=(10, 8))\n",
    "_ = f.suptitle('Global Correlations', size=24)\n",
    "gs = f.add_gridspec(2, 3)\n",
    "\n",
    "with sns.axes_style(\"darkgrid\"):\n",
    "    ax0 = f.add_subplot(gs[0, 0])\n",
    "    _= plt.scatter(df.GDP_percapita, df.ATM_per100K)\n",
    "    _= ax0.set_xlabel('GDP per capita')\n",
    "    _= ax0.set_ylabel('ATM')\n",
    "    _= ax0.set_title('GDP and ATM per 100k', weight='bold', size=10)\n",
    "\n",
    "with sns.axes_style(\"whitegrid\"):\n",
    "    ax1 = f.add_subplot(gs[1, 0])\n",
    "    _= plt.scatter(df.ATM_per100K, df.mobile_subscr_per100K)\n",
    "    _= ax1.set_xlabel('ATM')\n",
    "    _= ax1.set_ylabel('Mobile Subsciptions')\n",
    "    _= ax1.set_title('ATM and Mobile Subscriptions per 100k', weight='bold', size=10)\n",
    "\n",
    "with sns.axes_style(\"whitegrid\"):\n",
    "    ax2 = f.add_subplot(gs[0, 1])\n",
    "    _= plt.scatter(df.GDP_percapita, df.mobile_subscr_per100K)\n",
    "    _= ax2.set_xlabel('GDP per capita')\n",
    "    _= ax2.set_ylabel('Mobile Subsciptions')\n",
    "    _= ax2.set_title('GDP and Mobile Subscription per 100k', weight='bold', size=10)\n",
    "\n",
    "with sns.axes_style(\"darkgrid\"):\n",
    "    ax3 = f.add_subplot(gs[1, 1])\n",
    "    _= plt.scatter(df.Year, df.mobile_subscr_per100K)\n",
    "    _= ax3.set_xlabel('Year')\n",
    "    _= ax3.set_ylabel('Mobile Subsciptions')\n",
    "    _= ax3.set_title('Year and Mobile Subscriptions per 100k', weight='bold', size=10)\n",
    "    \n",
    "with sns.axes_style(\"darkgrid\"):\n",
    "    ax4 = f.add_subplot(gs[0, 2])\n",
    "    _= plt.scatter(df.ATM_per100K, df.GDP_growth_annualperc)\n",
    "    _= ax4.set_xlabel('ATM per 100k')\n",
    "    _= ax4.set_ylabel('GDP Growth Rate')\n",
    "    _= ax4.set_title('GDP Growth Rate and ATM per 100k', weight='bold', size=10)\n",
    "\n",
    "with sns.axes_style(\"darkgrid\"):\n",
    "    ax5 = f.add_subplot(gs[1, 2])\n",
    "    _= plt.scatter(df.mobile_subscr_per100K, df.GDP_growth_annualperc)\n",
    "    _= ax5.set_xlabel('Mobile Subsciptions')\n",
    "    _= ax5.set_ylabel('GDP Growth Rate')\n",
    "    _= ax5.set_title('GDP Growth Rate and \\n Mobile Subscriptions per 100k', weight='bold', size=10)\n",
    "\n",
    "plt.subplots_adjust(wspace=1.5,hspace=1)\n",
    "f.tight_layout()\n",
    "_= plt.savefig('Global Correlation')"
   ]
  },
  {
   "cell_type": "code",
   "execution_count": null,
   "metadata": {},
   "outputs": [],
   "source": [
    "#Small GDP\n",
    "sns.set_theme('notebook', font_scale=.75)\n",
    "f = plt.figure(figsize=(10, 8))\n",
    "_ = f.suptitle('Small GDP Correlation', c = 'red', size=24)\n",
    "gs = f.add_gridspec(2, 3)\n",
    "\n",
    "with sns.axes_style(\"darkgrid\"):\n",
    "    ax0 = f.add_subplot(gs[0, 0])\n",
    "    _= plt.scatter(df_small.GDP_percapita, df_small.ATM_per100K, c='red')\n",
    "    _= ax0.set_xlabel('Small GDP per capita')\n",
    "    _= ax0.set_ylabel('ATM')\n",
    "    _= ax0.set_title('GDP and ATM per 100k', weight='bold', size=10)\n",
    "\n",
    "with sns.axes_style(\"whitegrid\"):\n",
    "    ax1 = f.add_subplot(gs[1, 0])\n",
    "    _= plt.scatter(df_small.ATM_per100K, df_small.mobile_subscr_per100K, c='red')\n",
    "    _= ax1.set_xlabel('ATM')\n",
    "    _= ax1.set_ylabel('Mobile Subsciptions')\n",
    "    _= ax1.set_title('ATM and Mobile Subscriptions per 100k', weight='bold', size=10)\n",
    "\n",
    "with sns.axes_style(\"whitegrid\"):\n",
    "    ax2 = f.add_subplot(gs[0, 1])\n",
    "    _= plt.scatter(df_small.GDP_percapita, df_small.mobile_subscr_per100K, c='red')\n",
    "    _= ax2.set_xlabel('Small GDP per capita')\n",
    "    _= ax2.set_ylabel('Mobile Subsciptions')\n",
    "    _= ax2.set_title('GDP and Mobile Subscriptions per 100k', weight='bold', size=10)\n",
    "\n",
    "with sns.axes_style(\"darkgrid\"):\n",
    "    ax3 = f.add_subplot(gs[1, 1])\n",
    "    _= plt.scatter(df_small.Year, df_small.mobile_subscr_per100K, c='red')\n",
    "    _= ax3.set_xlabel('Year')\n",
    "    _= ax3.set_ylabel('Mobile Subsciptions')\n",
    "    _= ax3.set_title('Year and Mobile Subscriptions per 100k', weight='bold', size=10)\n",
    "    \n",
    "with sns.axes_style(\"darkgrid\"):\n",
    "    ax4 = f.add_subplot(gs[0, 2])\n",
    "    _= plt.scatter(df_small.ATM_per100K, df_small.GDP_growth_annualperc, c='red')\n",
    "    _= ax4.set_xlabel('ATM per 100k')\n",
    "    _= ax4.set_ylabel('GDP Growth Rate')\n",
    "    _= ax4.set_title('GDP Growth Rate and ATM per 100k', weight='bold', size=10)\n",
    "\n",
    "with sns.axes_style(\"whitegrid\"):\n",
    "    ax5 = f.add_subplot(gs[1, 2])\n",
    "    _= plt.scatter(df_small.mobile_subscr_per100K, df_small.GDP_growth_annualperc, c='red')\n",
    "    _= ax5.set_xlabel('Mobile Subsciptions')\n",
    "    _= ax5.set_ylabel('GDP Growth Rate')\n",
    "    _= ax5.set_title('GDP Growth Rate and \\n Mobile Subscriptions per 100k', weight='bold', size=10)\n",
    "\n",
    "plt.subplots_adjust(wspace=2,hspace=1)\n",
    "f.tight_layout()\n",
    "_= plt.savefig('Small GDP Correlations')"
   ]
  },
  {
   "cell_type": "code",
   "execution_count": null,
   "metadata": {
    "jupyter": {
     "source_hidden": true
    }
   },
   "outputs": [],
   "source": [
    "#medium\n",
    "sns.set_theme('notebook', font_scale=.75)\n",
    "f = plt.figure(figsize=(10, 8))\n",
    "_ = f.suptitle('Medium GDP Correlation', c='blue', size=24)\n",
    "gs = f.add_gridspec(2, 3)\n",
    "\n",
    "with sns.axes_style(\"darkgrid\"):\n",
    "    ax0 = f.add_subplot(gs[0, 0])\n",
    "    _= plt.scatter(df_medium.GDP_percapita, df_medium.ATM_per100K)\n",
    "    _= ax0.set_xlabel('Medium GDP per capita')\n",
    "    _= ax0.set_ylabel('ATM')\n",
    "    _= ax0.set_title('GDP and ATM per 100k', weight='bold', size=10)\n",
    "\n",
    "with sns.axes_style(\"whitegrid\"):\n",
    "    ax1 = f.add_subplot(gs[1, 0])\n",
    "    _= plt.scatter(df_medium.ATM_per100K, df_medium.mobile_subscr_per100K)\n",
    "    _= ax1.set_xlabel('ATM')\n",
    "    _= ax1.set_ylabel('Mobile Subsciptions')\n",
    "    _= ax1.set_title('ATM and Mobile Subscriptions per 100k', weight='bold', size=10)\n",
    "\n",
    "with sns.axes_style(\"whitegrid\"):\n",
    "    ax2 = f.add_subplot(gs[0, 1])\n",
    "    _= plt.scatter(df_medium.GDP_percapita, df_medium.mobile_subscr_per100K)\n",
    "    _= ax2.set_xlabel('Medium GDP per capita')\n",
    "    _= ax2.set_ylabel('Mobile Subsciptions')\n",
    "    _= ax2.set_title('GDP and Mobile Subscriptions per 100k', weight='bold', size=10)\n",
    "\n",
    "with sns.axes_style(\"darkgrid\"):\n",
    "    ax3 = f.add_subplot(gs[1, 1])\n",
    "    _= plt.scatter(df_medium.Year, df_medium.mobile_subscr_per100K)\n",
    "    _= ax3.set_xlabel('Year')\n",
    "    _= ax3.set_ylabel('Mobile Subsciptions')\n",
    "    _= ax3.set_title('Year and Mobile Subscriptions per 100k', weight='bold', size=10)\n",
    "    \n",
    "with sns.axes_style(\"darkgrid\"):\n",
    "    ax4 = f.add_subplot(gs[0, 2])\n",
    "    _= plt.scatter(df_medium.ATM_per100K, df_medium.GDP_growth_annualperc)\n",
    "    _= ax4.set_xlabel('ATM per 100k')\n",
    "    _= ax4.set_ylabel('GDP Growth Rate')\n",
    "    _= ax4.set_title('GDP Growth Rate and ATM per 100k', weight='bold', size=10)\n",
    "\n",
    "with sns.axes_style(\"whitegrid\"):\n",
    "    ax5 = f.add_subplot(gs[1, 2])\n",
    "    _= plt.scatter(df_medium.mobile_subscr_per100K, df_medium.GDP_growth_annualperc)\n",
    "    _= ax5.set_xlabel('Mobile Subsciptions')\n",
    "    _= ax5.set_ylabel('GDP Growth Rate')\n",
    "    _= ax5.set_title('GDP Growth Rate and \\n Mobile Subscriptions per 100k', weight='bold', size=10)\n",
    "\n",
    "plt.subplots_adjust(wspace=2,hspace=1)\n",
    "f.tight_layout()\n",
    "_= plt.savefig('Medium GDP Correlations')"
   ]
  },
  {
   "cell_type": "code",
   "execution_count": null,
   "metadata": {},
   "outputs": [],
   "source": [
    "#large\n",
    "sns.set_theme('notebook', font_scale=.75)\n",
    "f = plt.figure(figsize=(10, 8))\n",
    "_ = f.suptitle('Large GDP Correlation', c='green', size=24)\n",
    "gs = f.add_gridspec(2, 3)\n",
    "\n",
    "with sns.axes_style(\"darkgrid\"):\n",
    "    ax0 = f.add_subplot(gs[0, 0])\n",
    "    _= plt.scatter(df_large.GDP_percapita, df_large.ATM_per100K, c='green')\n",
    "    _= ax0.set_xlabel('Large GDP per capita')\n",
    "    _= ax0.set_ylabel('ATM')\n",
    "    _= ax0.set_title('GDP and ATM per 100k', weight='bold', size=10)\n",
    "\n",
    "with sns.axes_style(\"whitegrid\"):\n",
    "    ax1 = f.add_subplot(gs[1, 0])\n",
    "    _= plt.scatter(df_large.ATM_per100K, df_large.mobile_subscr_per100K, c='green')\n",
    "    _= ax1.set_xlabel('ATM')\n",
    "    _= ax1.set_ylabel('Mobile Subsciptions')\n",
    "    _= ax1.set_title('ATM and Mobile Subscriptions per 100k', weight='bold', size=10)\n",
    "\n",
    "with sns.axes_style(\"whitegrid\"):\n",
    "    ax2 = f.add_subplot(gs[0, 1])\n",
    "    _= plt.scatter(df_large.GDP_percapita, df_large.mobile_subscr_per100K, c='green')\n",
    "    _= ax2.set_xlabel('Large GDP per capita')\n",
    "    _= ax2.set_ylabel('Mobile Subsciptions')\n",
    "    _= ax2.set_title('GDP and Mobile Subscriptions per 100k', weight='bold', size=10)\n",
    "\n",
    "with sns.axes_style(\"darkgrid\"):\n",
    "    ax3 = f.add_subplot(gs[1, 1])\n",
    "    _= plt.scatter(df_large.Year, df_large.mobile_subscr_per100K, c='green')\n",
    "    _= ax3.set_xlabel('Year')\n",
    "    _= ax3.set_ylabel('Mobile Subsciptions')\n",
    "    _= ax3.set_title('Year and Mobile Subscriptions per 100k', weight='bold', size=10)\n",
    "    \n",
    "with sns.axes_style(\"darkgrid\"):\n",
    "    ax4 = f.add_subplot(gs[0, 2])\n",
    "    _= plt.scatter(df_large.ATM_per100K, df_large.GDP_growth_annualperc, c='green')\n",
    "    _= ax4.set_xlabel('ATM per 100k')\n",
    "    _= ax4.set_ylabel('GDP Growth Rate')\n",
    "    _= ax4.set_title('GDP Growth Rate and ATM per 100k', weight='bold', size=10)\n",
    "\n",
    "with sns.axes_style(\"whitegrid\"):\n",
    "    ax5 = f.add_subplot(gs[1, 2])\n",
    "    _= plt.scatter(df_large.mobile_subscr_per100K, df_large.GDP_growth_annualperc, c='green')\n",
    "    _= ax5.set_xlabel('Mobile Subsciptions')\n",
    "    _= ax5.set_ylabel('GDP Growth Rate')\n",
    "    _= ax5.set_title('GDP Growth Rate and \\n Mobile Subscriptions per 100k', weight='bold', size=10)\n",
    "\n",
    "plt.subplots_adjust(wspace=2,hspace=1)\n",
    "f.tight_layout()\n",
    "_= plt.savefig('Large GDP Correlations')"
   ]
  },
  {
   "cell_type": "markdown",
   "metadata": {},
   "source": [
    "### H0 = GDP does not impact the number of ATMs\n",
    "### HA = GDP does impact the number of ATMs"
   ]
  },
  {
   "cell_type": "code",
   "execution_count": null,
   "metadata": {},
   "outputs": [],
   "source": [
    "def bootstrap_sample_medians(data, n_bootstrap_samples=10**4):\n",
    "    bootstrap_sample_medians = []\n",
    "    for i in range(n_bootstrap_samples):\n",
    "        bootstrap_sample = np.random.choice(data, size=len(data), replace=True)\n",
    "        bootstrap_sample_medians.append(np.median(bootstrap_sample))\n",
    "    return bootstrap_sample_medians"
   ]
  },
  {
   "cell_type": "code",
   "execution_count": null,
   "metadata": {},
   "outputs": [],
   "source": [
    "def bootstrap_sample_mean(data, n_bootstrap_samples=10**4):\n",
    "    bootstrap_sample_mean = []\n",
    "    for i in np.arange(n_bootstrap_samples):\n",
    "        bootstrap_sample = np.random.choice(data, size=len(data), replace=True)\n",
    "        bootstrap_sample_mean.append(np.mean(bootstrap_sample))\n",
    "    return bootstrap_sample_mean"
   ]
  },
  {
   "cell_type": "code",
   "execution_count": null,
   "metadata": {},
   "outputs": [],
   "source": [
    "# tstat, pvalue = stats.ttest_ind(small, med)\n",
    "# tstat, pvalue \n",
    "# alpha = 0.05\n",
    "# print(pvalue < alpha)"
   ]
  },
  {
   "cell_type": "markdown",
   "metadata": {},
   "source": [
    "### Variance "
   ]
  },
  {
   "cell_type": "code",
   "execution_count": null,
   "metadata": {},
   "outputs": [],
   "source": [
    "y0 = df[df['quantile'] == 'small']['ATM_per100K']\n",
    "y1 = avg[avg['quantile'] == 'medium']['ATM_per100K']\n",
    "y2 = avg[avg['quantile'] == 'large']['ATM_per100K']\n",
    "np.var(y0)\n",
    "np.var(y1)\n",
    "np.var(y2)"
   ]
  },
  {
   "cell_type": "code",
   "execution_count": null,
   "metadata": {},
   "outputs": [],
   "source": [
    "small = np.array(df_small['ATM_per100K'])\n",
    "med = np.array(df_medium['ATM_per100K'])\n",
    "large = np.array(df_large['ATM_per100K'])"
   ]
  },
  {
   "cell_type": "code",
   "execution_count": null,
   "metadata": {},
   "outputs": [],
   "source": [
    "df.describe()"
   ]
  },
  {
   "cell_type": "code",
   "execution_count": null,
   "metadata": {},
   "outputs": [],
   "source": [
    "df.dropna(inplace=True)"
   ]
  },
  {
   "cell_type": "code",
   "execution_count": null,
   "metadata": {},
   "outputs": [],
   "source": [
    "results = sm.OLS(df_large['ATM_per100K'], df_large['GDP_percapita_growth']).fit()\n",
    "results.params\n",
    "\n",
    "fig, ax = plt.subplots(figsize=(8,5))\n",
    "fig = sm.graphics.plot_fit(results, 0, vlines= False, ax=ax)\n",
    "_= ax.set_ylabel(\"ATM per 100\")\n",
    "_= ax.set_xlabel(\"GDP Growth\")\n",
    "_= ax.set_title(\"GDP per Capita Growth to predict ATM per 100,000\")"
   ]
  },
  {
   "cell_type": "code",
   "execution_count": null,
   "metadata": {},
   "outputs": [],
   "source": [
    "part_regress = sfm.ols(formula=\"ATM_per100K ~ GDP_percapita + GDP_growth_annualperc + GDP_percapita_growth\", data=df_large).fit()\n",
    "part_regress.params\n",
    "part_regress.summary()\n",
    "fig = plt.figure(figsize=(8,6))\n",
    "fig = sm.graphics.plot_partregress_grid(part_regress, fig=fig)\n",
    "_= ax.set_ylabel(\"ATM per 100\")\n",
    "_= ax.set_xlabel(\"GDP Growth\")\n",
    "_= ax.set_title(\"Linear Regression\")\n",
    "fig.tight_layout(pad=1)\n",
    "plt.subplots_adjust(wspace=1,hspace=1)"
   ]
  },
  {
   "cell_type": "code",
   "execution_count": null,
   "metadata": {},
   "outputs": [],
   "source": [
    "# plt.title('Partial Regression ATM per 100K ~ GDP Per Capita | Mobile Subscription + Annual Growth', size = 24)\n",
    "plt.rc(\"figure\", figsize=(16,8))\n",
    "plt.rc(\"font\", size=24)\n",
    "ax1 = sm.graphics.plot_partregress(\"ATM_per100K\", \"GDP_percapita\", ['mobile_subscr_per100K', 'GDP_growth_annualperc'], data=df_large, obs_labels=False, marker = '.', c='r')\n",
    "# ax2 = sm.graphics.plot_partregress(\"ATM_per100K\", \"GDP_percapita\", [\"mobile_subscr_per100K\"], data=df_large, obs_labels=False)\n",
    "# ax3 = sm.graphics.plot_partregress(\"ATM_per100K\", \"GDP_percapita\", ['GDP_growth_annualperc'] , data=df_large, obs_labels=False)\n",
    "plt.savefig('Partial Regression Large')\n",
    "# fig.tight_layout(pad=1.0)"
   ]
  },
  {
   "cell_type": "code",
   "execution_count": null,
   "metadata": {},
   "outputs": [],
   "source": [
    "sns.regplot(x='GDP_percapita', y='ATM_per100K', data=df_large, marker = '.')"
   ]
  },
  {
   "cell_type": "code",
   "execution_count": null,
   "metadata": {},
   "outputs": [],
   "source": [
    "small_GDP = sm.OLS(df_small['ATM_per100K'], df_small['GDP_percapita']).fit()\n",
    "small_GDP\n",
    "small_GDP.params\n",
    "# results.summary()"
   ]
  },
  {
   "cell_type": "code",
   "execution_count": null,
   "metadata": {},
   "outputs": [],
   "source": []
  }
 ],
 "metadata": {
  "kernelspec": {
   "display_name": "Python 3",
   "language": "python",
   "name": "python3"
  },
  "language_info": {
   "codemirror_mode": {
    "name": "ipython",
    "version": 3
   },
   "file_extension": ".py",
   "mimetype": "text/x-python",
   "name": "python",
   "nbconvert_exporter": "python",
   "pygments_lexer": "ipython3",
   "version": "3.8.6"
  }
 },
 "nbformat": 4,
 "nbformat_minor": 4
}
